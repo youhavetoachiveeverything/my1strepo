{
  "nbformat": 4,
  "nbformat_minor": 0,
  "metadata": {
    "colab": {
      "name": "Untitled0.ipynb",
      "provenance": [],
      "collapsed_sections": [],
      "authorship_tag": "ABX9TyMTVdvCX77F2mam0+3Hs3kG",
      "include_colab_link": true
    },
    "kernelspec": {
      "name": "python3",
      "display_name": "Python 3"
    },
    "language_info": {
      "name": "python"
    }
  },
  "cells": [
    {
      "cell_type": "markdown",
      "metadata": {
        "id": "view-in-github",
        "colab_type": "text"
      },
      "source": [
        "<a href=\"https://colab.research.google.com/github/youhavetoachiveeverything/my1strepo/blob/master/NIKHIL%3EPANDEY.ipynb\" target=\"_parent\"><img src=\"https://colab.research.google.com/assets/colab-badge.svg\" alt=\"Open In Colab\"/></a>"
      ]
    },
    {
      "cell_type": "code",
      "metadata": {
        "id": "af7tusFXi7Ei"
      },
      "source": [
        "# importing libraries\n",
        "import numpy as np\n",
        "import matplotlib.pyplot as plt\n",
        "import pandas as pd\n",
        "import seaborn as sns\n",
        "from sklearn.impute import SimpleImputer\n",
        "from sklearn.preprocessing import LabelEncoder,OneHotEncoder"
      ],
      "execution_count": 138,
      "outputs": []
    },
    {
      "cell_type": "markdown",
      "metadata": {
        "id": "3zEQQmc1AaiO"
      },
      "source": [
        "***Imported the requrid libraries***"
      ]
    },
    {
      "cell_type": "markdown",
      "metadata": {
        "id": "V6KozM7PAzFX"
      },
      "source": [
        "***Uploaded the Dataset***"
      ]
    },
    {
      "cell_type": "code",
      "metadata": {
        "colab": {
          "resources": {
            "http://localhost:8080/nbextensions/google.colab/files.js": {
              "data": "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",
              "ok": true,
              "headers": [
                [
                  "content-type",
                  "application/javascript"
                ]
              ],
              "status": 200,
              "status_text": ""
            }
          },
          "base_uri": "https://localhost:8080/",
          "height": 72
        },
        "id": "UWP1zJxEVw2a",
        "outputId": "b7708da3-8912-492d-c77a-5676e7ffe4f4"
      },
      "source": [
        "# importing dataset\n",
        "from google.colab import files\n",
        "uploaded = files.upload()"
      ],
      "execution_count": 139,
      "outputs": [
        {
          "output_type": "display_data",
          "data": {
            "text/html": [
              "\n",
              "     <input type=\"file\" id=\"files-8d0b0674-e34e-467c-af2a-ff2c3633393f\" name=\"files[]\" multiple disabled\n",
              "        style=\"border:none\" />\n",
              "     <output id=\"result-8d0b0674-e34e-467c-af2a-ff2c3633393f\">\n",
              "      Upload widget is only available when the cell has been executed in the\n",
              "      current browser session. Please rerun this cell to enable.\n",
              "      </output>\n",
              "      <script src=\"/nbextensions/google.colab/files.js\"></script> "
            ],
            "text/plain": [
              "<IPython.core.display.HTML object>"
            ]
          },
          "metadata": {
            "tags": []
          }
        },
        {
          "output_type": "stream",
          "text": [
            "Saving train.csv to train (2).csv\n"
          ],
          "name": "stdout"
        }
      ]
    },
    {
      "cell_type": "markdown",
      "metadata": {
        "id": "MG2LjFM3A-p8"
      },
      "source": [
        "***dft is my training dataset name***"
      ]
    },
    {
      "cell_type": "code",
      "metadata": {
        "id": "buDdboyNVp7R"
      },
      "source": [
        "# reading dataset in frame\n",
        "import io\n",
        "dft = pd.read_csv(io.BytesIO(uploaded['train.csv']))"
      ],
      "execution_count": 140,
      "outputs": []
    },
    {
      "cell_type": "markdown",
      "metadata": {
        "id": "EzWl1s42BmeJ"
      },
      "source": [
        "**showing fist 5 rows of dataset**"
      ]
    },
    {
      "cell_type": "code",
      "metadata": {
        "id": "QvL85mzf7xgo",
        "outputId": "51543575-3c35-43f1-dfca-8102944bcd7e",
        "colab": {
          "base_uri": "https://localhost:8080/",
          "height": 204
        }
      },
      "source": [
        "dft.head()"
      ],
      "execution_count": 141,
      "outputs": [
        {
          "output_type": "execute_result",
          "data": {
            "text/html": [
              "<div>\n",
              "<style scoped>\n",
              "    .dataframe tbody tr th:only-of-type {\n",
              "        vertical-align: middle;\n",
              "    }\n",
              "\n",
              "    .dataframe tbody tr th {\n",
              "        vertical-align: top;\n",
              "    }\n",
              "\n",
              "    .dataframe thead th {\n",
              "        text-align: right;\n",
              "    }\n",
              "</style>\n",
              "<table border=\"1\" class=\"dataframe\">\n",
              "  <thead>\n",
              "    <tr style=\"text-align: right;\">\n",
              "      <th></th>\n",
              "      <th>A1</th>\n",
              "      <th>A2</th>\n",
              "      <th>A3</th>\n",
              "      <th>A4</th>\n",
              "      <th>A5</th>\n",
              "      <th>A6</th>\n",
              "      <th>A7</th>\n",
              "      <th>A8</th>\n",
              "      <th>A9</th>\n",
              "      <th>A10</th>\n",
              "      <th>A11</th>\n",
              "      <th>A12</th>\n",
              "      <th>A13</th>\n",
              "      <th>A14</th>\n",
              "      <th>A15</th>\n",
              "      <th>A16</th>\n",
              "    </tr>\n",
              "  </thead>\n",
              "  <tbody>\n",
              "    <tr>\n",
              "      <th>0</th>\n",
              "      <td>b</td>\n",
              "      <td>30.83</td>\n",
              "      <td>0.000</td>\n",
              "      <td>u</td>\n",
              "      <td>g</td>\n",
              "      <td>w</td>\n",
              "      <td>v</td>\n",
              "      <td>1.25</td>\n",
              "      <td>t</td>\n",
              "      <td>t</td>\n",
              "      <td>1</td>\n",
              "      <td>f</td>\n",
              "      <td>g</td>\n",
              "      <td>202.0</td>\n",
              "      <td>0</td>\n",
              "      <td>1</td>\n",
              "    </tr>\n",
              "    <tr>\n",
              "      <th>1</th>\n",
              "      <td>a</td>\n",
              "      <td>58.67</td>\n",
              "      <td>4.460</td>\n",
              "      <td>u</td>\n",
              "      <td>g</td>\n",
              "      <td>q</td>\n",
              "      <td>h</td>\n",
              "      <td>3.04</td>\n",
              "      <td>t</td>\n",
              "      <td>t</td>\n",
              "      <td>6</td>\n",
              "      <td>f</td>\n",
              "      <td>g</td>\n",
              "      <td>43.0</td>\n",
              "      <td>560</td>\n",
              "      <td>1</td>\n",
              "    </tr>\n",
              "    <tr>\n",
              "      <th>2</th>\n",
              "      <td>a</td>\n",
              "      <td>24.50</td>\n",
              "      <td>0.500</td>\n",
              "      <td>u</td>\n",
              "      <td>g</td>\n",
              "      <td>q</td>\n",
              "      <td>h</td>\n",
              "      <td>1.50</td>\n",
              "      <td>t</td>\n",
              "      <td>f</td>\n",
              "      <td>0</td>\n",
              "      <td>f</td>\n",
              "      <td>g</td>\n",
              "      <td>280.0</td>\n",
              "      <td>824</td>\n",
              "      <td>1</td>\n",
              "    </tr>\n",
              "    <tr>\n",
              "      <th>3</th>\n",
              "      <td>b</td>\n",
              "      <td>27.83</td>\n",
              "      <td>1.540</td>\n",
              "      <td>u</td>\n",
              "      <td>g</td>\n",
              "      <td>w</td>\n",
              "      <td>v</td>\n",
              "      <td>3.75</td>\n",
              "      <td>t</td>\n",
              "      <td>t</td>\n",
              "      <td>5</td>\n",
              "      <td>t</td>\n",
              "      <td>g</td>\n",
              "      <td>100.0</td>\n",
              "      <td>3</td>\n",
              "      <td>1</td>\n",
              "    </tr>\n",
              "    <tr>\n",
              "      <th>4</th>\n",
              "      <td>b</td>\n",
              "      <td>20.17</td>\n",
              "      <td>5.625</td>\n",
              "      <td>u</td>\n",
              "      <td>g</td>\n",
              "      <td>w</td>\n",
              "      <td>v</td>\n",
              "      <td>1.71</td>\n",
              "      <td>t</td>\n",
              "      <td>f</td>\n",
              "      <td>0</td>\n",
              "      <td>f</td>\n",
              "      <td>s</td>\n",
              "      <td>120.0</td>\n",
              "      <td>0</td>\n",
              "      <td>1</td>\n",
              "    </tr>\n",
              "  </tbody>\n",
              "</table>\n",
              "</div>"
            ],
            "text/plain": [
              "  A1     A2     A3 A4 A5 A6 A7    A8 A9 A10  A11 A12 A13    A14  A15  A16\n",
              "0  b  30.83  0.000  u  g  w  v  1.25  t   t    1   f   g  202.0    0    1\n",
              "1  a  58.67  4.460  u  g  q  h  3.04  t   t    6   f   g   43.0  560    1\n",
              "2  a  24.50  0.500  u  g  q  h  1.50  t   f    0   f   g  280.0  824    1\n",
              "3  b  27.83  1.540  u  g  w  v  3.75  t   t    5   t   g  100.0    3    1\n",
              "4  b  20.17  5.625  u  g  w  v  1.71  t   f    0   f   s  120.0    0    1"
            ]
          },
          "metadata": {
            "tags": []
          },
          "execution_count": 141
        }
      ]
    },
    {
      "cell_type": "markdown",
      "metadata": {
        "id": "w70QTQgMB4E-"
      },
      "source": [
        "**df is my Test dataset**\n",
        "**Uploading test dataset here**"
      ]
    },
    {
      "cell_type": "code",
      "metadata": {
        "colab": {
          "resources": {
            "http://localhost:8080/nbextensions/google.colab/files.js": {
              "data": "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",
              "ok": true,
              "headers": [
                [
                  "content-type",
                  "application/javascript"
                ]
              ],
              "status": 200,
              "status_text": ""
            }
          },
          "base_uri": "https://localhost:8080/",
          "height": 72
        },
        "id": "lAPr6fEJj60J",
        "outputId": "49cf9cea-7d46-494a-d59a-39836730da34"
      },
      "source": [
        "from google.colab import files\n",
        "uploaded = files.upload()"
      ],
      "execution_count": 142,
      "outputs": [
        {
          "output_type": "display_data",
          "data": {
            "text/html": [
              "\n",
              "     <input type=\"file\" id=\"files-e8fd2c48-ca64-4a9d-ad14-af0cdaf9c0ff\" name=\"files[]\" multiple disabled\n",
              "        style=\"border:none\" />\n",
              "     <output id=\"result-e8fd2c48-ca64-4a9d-ad14-af0cdaf9c0ff\">\n",
              "      Upload widget is only available when the cell has been executed in the\n",
              "      current browser session. Please rerun this cell to enable.\n",
              "      </output>\n",
              "      <script src=\"/nbextensions/google.colab/files.js\"></script> "
            ],
            "text/plain": [
              "<IPython.core.display.HTML object>"
            ]
          },
          "metadata": {
            "tags": []
          }
        },
        {
          "output_type": "stream",
          "text": [
            "Saving test.csv to test (2).csv\n"
          ],
          "name": "stdout"
        }
      ]
    },
    {
      "cell_type": "code",
      "metadata": {
        "id": "FJhDQpGOuC9x"
      },
      "source": [
        "import io\n",
        "df = pd.read_csv(io.BytesIO(uploaded['test.csv']))"
      ],
      "execution_count": 143,
      "outputs": []
    },
    {
      "cell_type": "markdown",
      "metadata": {
        "id": "QnyKcwAxCMXM"
      },
      "source": [
        "***showing fist 5 rows of dataset***"
      ]
    },
    {
      "cell_type": "code",
      "metadata": {
        "id": "CSCYjeV88Ari",
        "outputId": "7afa88e3-ea4a-4fae-bd19-0a364803f102",
        "colab": {
          "base_uri": "https://localhost:8080/",
          "height": 204
        }
      },
      "source": [
        "df.head()"
      ],
      "execution_count": 144,
      "outputs": [
        {
          "output_type": "execute_result",
          "data": {
            "text/html": [
              "<div>\n",
              "<style scoped>\n",
              "    .dataframe tbody tr th:only-of-type {\n",
              "        vertical-align: middle;\n",
              "    }\n",
              "\n",
              "    .dataframe tbody tr th {\n",
              "        vertical-align: top;\n",
              "    }\n",
              "\n",
              "    .dataframe thead th {\n",
              "        text-align: right;\n",
              "    }\n",
              "</style>\n",
              "<table border=\"1\" class=\"dataframe\">\n",
              "  <thead>\n",
              "    <tr style=\"text-align: right;\">\n",
              "      <th></th>\n",
              "      <th>A1</th>\n",
              "      <th>A2</th>\n",
              "      <th>A3</th>\n",
              "      <th>A4</th>\n",
              "      <th>A5</th>\n",
              "      <th>A6</th>\n",
              "      <th>A7</th>\n",
              "      <th>A8</th>\n",
              "      <th>A9</th>\n",
              "      <th>A10</th>\n",
              "      <th>A11</th>\n",
              "      <th>A12</th>\n",
              "      <th>A13</th>\n",
              "      <th>A14</th>\n",
              "      <th>A15</th>\n",
              "      <th>A16</th>\n",
              "    </tr>\n",
              "  </thead>\n",
              "  <tbody>\n",
              "    <tr>\n",
              "      <th>0</th>\n",
              "      <td>b</td>\n",
              "      <td>44.25</td>\n",
              "      <td>11.00</td>\n",
              "      <td>y</td>\n",
              "      <td>p</td>\n",
              "      <td>d</td>\n",
              "      <td>v</td>\n",
              "      <td>1.500</td>\n",
              "      <td>t</td>\n",
              "      <td>f</td>\n",
              "      <td>0</td>\n",
              "      <td>f</td>\n",
              "      <td>s</td>\n",
              "      <td>0</td>\n",
              "      <td>0</td>\n",
              "      <td>0</td>\n",
              "    </tr>\n",
              "    <tr>\n",
              "      <th>1</th>\n",
              "      <td>b</td>\n",
              "      <td>23.58</td>\n",
              "      <td>0.46</td>\n",
              "      <td>y</td>\n",
              "      <td>p</td>\n",
              "      <td>w</td>\n",
              "      <td>v</td>\n",
              "      <td>2.625</td>\n",
              "      <td>t</td>\n",
              "      <td>t</td>\n",
              "      <td>6</td>\n",
              "      <td>t</td>\n",
              "      <td>g</td>\n",
              "      <td>208</td>\n",
              "      <td>347</td>\n",
              "      <td>0</td>\n",
              "    </tr>\n",
              "    <tr>\n",
              "      <th>2</th>\n",
              "      <td>b</td>\n",
              "      <td>23.92</td>\n",
              "      <td>1.50</td>\n",
              "      <td>u</td>\n",
              "      <td>g</td>\n",
              "      <td>d</td>\n",
              "      <td>h</td>\n",
              "      <td>1.875</td>\n",
              "      <td>t</td>\n",
              "      <td>t</td>\n",
              "      <td>6</td>\n",
              "      <td>f</td>\n",
              "      <td>g</td>\n",
              "      <td>200</td>\n",
              "      <td>327</td>\n",
              "      <td>1</td>\n",
              "    </tr>\n",
              "    <tr>\n",
              "      <th>3</th>\n",
              "      <td>b</td>\n",
              "      <td>33.17</td>\n",
              "      <td>1.00</td>\n",
              "      <td>u</td>\n",
              "      <td>g</td>\n",
              "      <td>x</td>\n",
              "      <td>v</td>\n",
              "      <td>0.750</td>\n",
              "      <td>t</td>\n",
              "      <td>t</td>\n",
              "      <td>7</td>\n",
              "      <td>t</td>\n",
              "      <td>g</td>\n",
              "      <td>340</td>\n",
              "      <td>4071</td>\n",
              "      <td>1</td>\n",
              "    </tr>\n",
              "    <tr>\n",
              "      <th>4</th>\n",
              "      <td>b</td>\n",
              "      <td>48.33</td>\n",
              "      <td>12.00</td>\n",
              "      <td>u</td>\n",
              "      <td>g</td>\n",
              "      <td>m</td>\n",
              "      <td>v</td>\n",
              "      <td>16.000</td>\n",
              "      <td>t</td>\n",
              "      <td>f</td>\n",
              "      <td>0</td>\n",
              "      <td>f</td>\n",
              "      <td>s</td>\n",
              "      <td>110</td>\n",
              "      <td>0</td>\n",
              "      <td>1</td>\n",
              "    </tr>\n",
              "  </tbody>\n",
              "</table>\n",
              "</div>"
            ],
            "text/plain": [
              "  A1     A2     A3 A4 A5 A6 A7      A8 A9 A10  A11 A12 A13  A14   A15  A16\n",
              "0  b  44.25  11.00  y  p  d  v   1.500  t   f    0   f   s    0     0    0\n",
              "1  b  23.58   0.46  y  p  w  v   2.625  t   t    6   t   g  208   347    0\n",
              "2  b  23.92   1.50  u  g  d  h   1.875  t   t    6   f   g  200   327    1\n",
              "3  b  33.17   1.00  u  g  x  v   0.750  t   t    7   t   g  340  4071    1\n",
              "4  b  48.33  12.00  u  g  m  v  16.000  t   f    0   f   s  110     0    1"
            ]
          },
          "metadata": {
            "tags": []
          },
          "execution_count": 144
        }
      ]
    },
    {
      "cell_type": "code",
      "metadata": {
        "id": "lelN5zkHCWb1"
      },
      "source": [
        ""
      ],
      "execution_count": 144,
      "outputs": []
    },
    {
      "cell_type": "markdown",
      "metadata": {
        "id": "7LPBGpsYCe57"
      },
      "source": [
        "***Data preprosessing starts here***"
      ]
    },
    {
      "cell_type": "markdown",
      "metadata": {
        "id": "A2_CRElfCniW"
      },
      "source": [
        "***dealing NULL vaues Here***"
      ]
    },
    {
      "cell_type": "markdown",
      "metadata": {
        "id": "F4Y2aoiiCzD_"
      },
      "source": [
        "***continious feature Null values are replaced by MEAN strategy of IMPUTER***"
      ]
    },
    {
      "cell_type": "code",
      "metadata": {
        "id": "P19qdkjYCxW5"
      },
      "source": [
        "# dealing with null values for continious features\n",
        "imp_mean = SimpleImputer(missing_values=np.nan, strategy='mean')\n",
        "imp_mean.fit(dft[['A2']])\n",
        "dft['A2']= imp_mean.transform(dft[['A2']]).ravel()\n",
        "imp_mean.fit(dft[['A14']])\n",
        "dft['A14']= imp_mean.transform(dft[['A14']]).ravel()\n",
        "imp_mean.fit(df[['A2']])\n",
        "df['A2']= imp_mean.transform(df[['A2']]).ravel()\n",
        "imp_mean.fit(df[['A14']])\n",
        "df['A14']= imp_mean.transform(df[['A14']]).ravel()"
      ],
      "execution_count": 145,
      "outputs": []
    },
    {
      "cell_type": "markdown",
      "metadata": {
        "id": "q_XY7UfyCdqy"
      },
      "source": [
        "***categorical feature NULL value Is replaced by MOST FREQUENT strategy of IMPUTER***"
      ]
    },
    {
      "cell_type": "code",
      "metadata": {
        "id": "cVLHf858GeVE"
      },
      "source": [
        "# dealing with null values for categorical features\n",
        "imp_mean = SimpleImputer(missing_values=np.nan, strategy='most_frequent')\n",
        "imp_mean.fit(dft[['A1']])\n",
        "dft['A1']= imp_mean.transform(dft[['A1']]).ravel()\n",
        "imp_mean.fit(dft[['A4']])\n",
        "dft['A4']= imp_mean.transform(dft[['A4']]).ravel()\n",
        "imp_mean.fit(dft[['A5']])\n",
        "dft['A5']= imp_mean.transform(dft[['A5']]).ravel()\n",
        "imp_mean.fit(dft[['A6']])\n",
        "dft['A6']= imp_mean.transform(dft[['A6']]).ravel()\n",
        "imp_mean.fit(dft[['A7']])\n",
        "dft['A7']= imp_mean.transform(dft[['A7']]).ravel()\n",
        "imp_mean.fit(df[['A1']])\n",
        "df['A1']= imp_mean.transform(df[['A1']]).ravel()\n",
        "imp_mean.fit(df[['A4']])\n",
        "df['A4']= imp_mean.transform(df[['A4']]).ravel()\n",
        "imp_mean.fit(df[['A5']])\n",
        "df['A5']= imp_mean.transform(df[['A5']]).ravel()\n",
        "imp_mean.fit(df[['A6']])\n",
        "df['A6']= imp_mean.transform(df[['A6']]).ravel()\n",
        "imp_mean.fit(df[['A7']])\n",
        "df['A7']= imp_mean.transform(df[['A7']]).ravel()"
      ],
      "execution_count": 146,
      "outputs": []
    },
    {
      "cell_type": "markdown",
      "metadata": {
        "id": "clg0PaUBDW6b"
      },
      "source": [
        "*** we can see there is no NULL value IN dataset***"
      ]
    },
    {
      "cell_type": "code",
      "metadata": {
        "colab": {
          "base_uri": "https://localhost:8080/"
        },
        "id": "uVdp__lsM0Np",
        "outputId": "6406180a-f2be-4fff-afd8-c1f3eb116090"
      },
      "source": [
        "dft.info()"
      ],
      "execution_count": 147,
      "outputs": [
        {
          "output_type": "stream",
          "text": [
            "<class 'pandas.core.frame.DataFrame'>\n",
            "RangeIndex: 690 entries, 0 to 689\n",
            "Data columns (total 16 columns):\n",
            " #   Column  Non-Null Count  Dtype  \n",
            "---  ------  --------------  -----  \n",
            " 0   A1      690 non-null    object \n",
            " 1   A2      690 non-null    float64\n",
            " 2   A3      690 non-null    float64\n",
            " 3   A4      690 non-null    object \n",
            " 4   A5      690 non-null    object \n",
            " 5   A6      690 non-null    object \n",
            " 6   A7      690 non-null    object \n",
            " 7   A8      690 non-null    float64\n",
            " 8   A9      690 non-null    object \n",
            " 9   A10     690 non-null    object \n",
            " 10  A11     690 non-null    int64  \n",
            " 11  A12     690 non-null    object \n",
            " 12  A13     690 non-null    object \n",
            " 13  A14     690 non-null    float64\n",
            " 14  A15     690 non-null    int64  \n",
            " 15  A16     690 non-null    int64  \n",
            "dtypes: float64(4), int64(3), object(9)\n",
            "memory usage: 86.4+ KB\n"
          ],
          "name": "stdout"
        }
      ]
    },
    {
      "cell_type": "markdown",
      "metadata": {
        "id": "QyOR_3tRDgE6"
      },
      "source": [
        "***Now have to Deal with encoding of categorical variables***"
      ]
    },
    {
      "cell_type": "code",
      "metadata": {
        "id": "100JKbzX8gLw",
        "outputId": "83ce9e3d-ade5-46d5-bafc-084356bfdb07",
        "colab": {
          "base_uri": "https://localhost:8080/",
          "height": 204
        }
      },
      "source": [
        "dft.head()"
      ],
      "execution_count": 148,
      "outputs": [
        {
          "output_type": "execute_result",
          "data": {
            "text/html": [
              "<div>\n",
              "<style scoped>\n",
              "    .dataframe tbody tr th:only-of-type {\n",
              "        vertical-align: middle;\n",
              "    }\n",
              "\n",
              "    .dataframe tbody tr th {\n",
              "        vertical-align: top;\n",
              "    }\n",
              "\n",
              "    .dataframe thead th {\n",
              "        text-align: right;\n",
              "    }\n",
              "</style>\n",
              "<table border=\"1\" class=\"dataframe\">\n",
              "  <thead>\n",
              "    <tr style=\"text-align: right;\">\n",
              "      <th></th>\n",
              "      <th>A1</th>\n",
              "      <th>A2</th>\n",
              "      <th>A3</th>\n",
              "      <th>A4</th>\n",
              "      <th>A5</th>\n",
              "      <th>A6</th>\n",
              "      <th>A7</th>\n",
              "      <th>A8</th>\n",
              "      <th>A9</th>\n",
              "      <th>A10</th>\n",
              "      <th>A11</th>\n",
              "      <th>A12</th>\n",
              "      <th>A13</th>\n",
              "      <th>A14</th>\n",
              "      <th>A15</th>\n",
              "      <th>A16</th>\n",
              "    </tr>\n",
              "  </thead>\n",
              "  <tbody>\n",
              "    <tr>\n",
              "      <th>0</th>\n",
              "      <td>b</td>\n",
              "      <td>30.83</td>\n",
              "      <td>0.000</td>\n",
              "      <td>u</td>\n",
              "      <td>g</td>\n",
              "      <td>w</td>\n",
              "      <td>v</td>\n",
              "      <td>1.25</td>\n",
              "      <td>t</td>\n",
              "      <td>t</td>\n",
              "      <td>1</td>\n",
              "      <td>f</td>\n",
              "      <td>g</td>\n",
              "      <td>202.0</td>\n",
              "      <td>0</td>\n",
              "      <td>1</td>\n",
              "    </tr>\n",
              "    <tr>\n",
              "      <th>1</th>\n",
              "      <td>a</td>\n",
              "      <td>58.67</td>\n",
              "      <td>4.460</td>\n",
              "      <td>u</td>\n",
              "      <td>g</td>\n",
              "      <td>q</td>\n",
              "      <td>h</td>\n",
              "      <td>3.04</td>\n",
              "      <td>t</td>\n",
              "      <td>t</td>\n",
              "      <td>6</td>\n",
              "      <td>f</td>\n",
              "      <td>g</td>\n",
              "      <td>43.0</td>\n",
              "      <td>560</td>\n",
              "      <td>1</td>\n",
              "    </tr>\n",
              "    <tr>\n",
              "      <th>2</th>\n",
              "      <td>a</td>\n",
              "      <td>24.50</td>\n",
              "      <td>0.500</td>\n",
              "      <td>u</td>\n",
              "      <td>g</td>\n",
              "      <td>q</td>\n",
              "      <td>h</td>\n",
              "      <td>1.50</td>\n",
              "      <td>t</td>\n",
              "      <td>f</td>\n",
              "      <td>0</td>\n",
              "      <td>f</td>\n",
              "      <td>g</td>\n",
              "      <td>280.0</td>\n",
              "      <td>824</td>\n",
              "      <td>1</td>\n",
              "    </tr>\n",
              "    <tr>\n",
              "      <th>3</th>\n",
              "      <td>b</td>\n",
              "      <td>27.83</td>\n",
              "      <td>1.540</td>\n",
              "      <td>u</td>\n",
              "      <td>g</td>\n",
              "      <td>w</td>\n",
              "      <td>v</td>\n",
              "      <td>3.75</td>\n",
              "      <td>t</td>\n",
              "      <td>t</td>\n",
              "      <td>5</td>\n",
              "      <td>t</td>\n",
              "      <td>g</td>\n",
              "      <td>100.0</td>\n",
              "      <td>3</td>\n",
              "      <td>1</td>\n",
              "    </tr>\n",
              "    <tr>\n",
              "      <th>4</th>\n",
              "      <td>b</td>\n",
              "      <td>20.17</td>\n",
              "      <td>5.625</td>\n",
              "      <td>u</td>\n",
              "      <td>g</td>\n",
              "      <td>w</td>\n",
              "      <td>v</td>\n",
              "      <td>1.71</td>\n",
              "      <td>t</td>\n",
              "      <td>f</td>\n",
              "      <td>0</td>\n",
              "      <td>f</td>\n",
              "      <td>s</td>\n",
              "      <td>120.0</td>\n",
              "      <td>0</td>\n",
              "      <td>1</td>\n",
              "    </tr>\n",
              "  </tbody>\n",
              "</table>\n",
              "</div>"
            ],
            "text/plain": [
              "  A1     A2     A3 A4 A5 A6 A7    A8 A9 A10  A11 A12 A13    A14  A15  A16\n",
              "0  b  30.83  0.000  u  g  w  v  1.25  t   t    1   f   g  202.0    0    1\n",
              "1  a  58.67  4.460  u  g  q  h  3.04  t   t    6   f   g   43.0  560    1\n",
              "2  a  24.50  0.500  u  g  q  h  1.50  t   f    0   f   g  280.0  824    1\n",
              "3  b  27.83  1.540  u  g  w  v  3.75  t   t    5   t   g  100.0    3    1\n",
              "4  b  20.17  5.625  u  g  w  v  1.71  t   f    0   f   s  120.0    0    1"
            ]
          },
          "metadata": {
            "tags": []
          },
          "execution_count": 148
        }
      ]
    },
    {
      "cell_type": "markdown",
      "metadata": {
        "id": "pCGjnCypDqbV"
      },
      "source": [
        "***Using lebal encoder for encoding***"
      ]
    },
    {
      "cell_type": "code",
      "metadata": {
        "id": "wFIWm0L9Anyd"
      },
      "source": [
        "# incoding dataset useing lebel incoder\n",
        "labelencoder = LabelEncoder()\n",
        "dft.A1=labelencoder.fit_transform(dft.A1.values)\n",
        "dft.A4=labelencoder.fit_transform(dft.A4.values)\n",
        "dft.A5=labelencoder.fit_transform(dft.A5.values)\n",
        "dft.A6=labelencoder.fit_transform(dft.A6.values)\n",
        "dft.A7=labelencoder.fit_transform(dft.A7.values)\n",
        "dft.A9=labelencoder.fit_transform(dft.A9.values)\n",
        "dft.A10=labelencoder.fit_transform(dft.A10.values)\n",
        "dft.A13=labelencoder.fit_transform(dft.A13.values)\n",
        "dft.A12=labelencoder.fit_transform(dft.A12.values)\n",
        "df.A1=labelencoder.fit_transform(df.A1.values)\n",
        "df.A4=labelencoder.fit_transform(df.A4.values)\n",
        "df.A5=labelencoder.fit_transform(df.A5.values)\n",
        "df.A6=labelencoder.fit_transform(df.A6.values)\n",
        "df.A7=labelencoder.fit_transform(df.A7.values)\n",
        "df.A9=labelencoder.fit_transform(df.A9.values)\n",
        "df.A10=labelencoder.fit_transform(df.A10.values)\n",
        "df.A13=labelencoder.fit_transform(df.A13.values)\n",
        "df.A12=labelencoder.fit_transform(df.A12.values)"
      ],
      "execution_count": 149,
      "outputs": []
    },
    {
      "cell_type": "markdown",
      "metadata": {
        "id": "b9nuW8q7Dy-E"
      },
      "source": [
        "***encoding sussesfull as can see***"
      ]
    },
    {
      "cell_type": "code",
      "metadata": {
        "colab": {
          "base_uri": "https://localhost:8080/",
          "height": 359
        },
        "id": "zKcmmCwzM7i_",
        "outputId": "be6be280-3626-436a-9eb3-d400abd7a0b1"
      },
      "source": [
        "dft.head(10)"
      ],
      "execution_count": 150,
      "outputs": [
        {
          "output_type": "execute_result",
          "data": {
            "text/html": [
              "<div>\n",
              "<style scoped>\n",
              "    .dataframe tbody tr th:only-of-type {\n",
              "        vertical-align: middle;\n",
              "    }\n",
              "\n",
              "    .dataframe tbody tr th {\n",
              "        vertical-align: top;\n",
              "    }\n",
              "\n",
              "    .dataframe thead th {\n",
              "        text-align: right;\n",
              "    }\n",
              "</style>\n",
              "<table border=\"1\" class=\"dataframe\">\n",
              "  <thead>\n",
              "    <tr style=\"text-align: right;\">\n",
              "      <th></th>\n",
              "      <th>A1</th>\n",
              "      <th>A2</th>\n",
              "      <th>A3</th>\n",
              "      <th>A4</th>\n",
              "      <th>A5</th>\n",
              "      <th>A6</th>\n",
              "      <th>A7</th>\n",
              "      <th>A8</th>\n",
              "      <th>A9</th>\n",
              "      <th>A10</th>\n",
              "      <th>A11</th>\n",
              "      <th>A12</th>\n",
              "      <th>A13</th>\n",
              "      <th>A14</th>\n",
              "      <th>A15</th>\n",
              "      <th>A16</th>\n",
              "    </tr>\n",
              "  </thead>\n",
              "  <tbody>\n",
              "    <tr>\n",
              "      <th>0</th>\n",
              "      <td>1</td>\n",
              "      <td>30.83</td>\n",
              "      <td>0.000</td>\n",
              "      <td>1</td>\n",
              "      <td>0</td>\n",
              "      <td>12</td>\n",
              "      <td>7</td>\n",
              "      <td>1.250</td>\n",
              "      <td>1</td>\n",
              "      <td>1</td>\n",
              "      <td>1</td>\n",
              "      <td>0</td>\n",
              "      <td>0</td>\n",
              "      <td>202.0</td>\n",
              "      <td>0</td>\n",
              "      <td>1</td>\n",
              "    </tr>\n",
              "    <tr>\n",
              "      <th>1</th>\n",
              "      <td>0</td>\n",
              "      <td>58.67</td>\n",
              "      <td>4.460</td>\n",
              "      <td>1</td>\n",
              "      <td>0</td>\n",
              "      <td>10</td>\n",
              "      <td>3</td>\n",
              "      <td>3.040</td>\n",
              "      <td>1</td>\n",
              "      <td>1</td>\n",
              "      <td>6</td>\n",
              "      <td>0</td>\n",
              "      <td>0</td>\n",
              "      <td>43.0</td>\n",
              "      <td>560</td>\n",
              "      <td>1</td>\n",
              "    </tr>\n",
              "    <tr>\n",
              "      <th>2</th>\n",
              "      <td>0</td>\n",
              "      <td>24.50</td>\n",
              "      <td>0.500</td>\n",
              "      <td>1</td>\n",
              "      <td>0</td>\n",
              "      <td>10</td>\n",
              "      <td>3</td>\n",
              "      <td>1.500</td>\n",
              "      <td>1</td>\n",
              "      <td>0</td>\n",
              "      <td>0</td>\n",
              "      <td>0</td>\n",
              "      <td>0</td>\n",
              "      <td>280.0</td>\n",
              "      <td>824</td>\n",
              "      <td>1</td>\n",
              "    </tr>\n",
              "    <tr>\n",
              "      <th>3</th>\n",
              "      <td>1</td>\n",
              "      <td>27.83</td>\n",
              "      <td>1.540</td>\n",
              "      <td>1</td>\n",
              "      <td>0</td>\n",
              "      <td>12</td>\n",
              "      <td>7</td>\n",
              "      <td>3.750</td>\n",
              "      <td>1</td>\n",
              "      <td>1</td>\n",
              "      <td>5</td>\n",
              "      <td>1</td>\n",
              "      <td>0</td>\n",
              "      <td>100.0</td>\n",
              "      <td>3</td>\n",
              "      <td>1</td>\n",
              "    </tr>\n",
              "    <tr>\n",
              "      <th>4</th>\n",
              "      <td>1</td>\n",
              "      <td>20.17</td>\n",
              "      <td>5.625</td>\n",
              "      <td>1</td>\n",
              "      <td>0</td>\n",
              "      <td>12</td>\n",
              "      <td>7</td>\n",
              "      <td>1.710</td>\n",
              "      <td>1</td>\n",
              "      <td>0</td>\n",
              "      <td>0</td>\n",
              "      <td>0</td>\n",
              "      <td>2</td>\n",
              "      <td>120.0</td>\n",
              "      <td>0</td>\n",
              "      <td>1</td>\n",
              "    </tr>\n",
              "    <tr>\n",
              "      <th>5</th>\n",
              "      <td>1</td>\n",
              "      <td>32.08</td>\n",
              "      <td>4.000</td>\n",
              "      <td>1</td>\n",
              "      <td>0</td>\n",
              "      <td>9</td>\n",
              "      <td>7</td>\n",
              "      <td>2.500</td>\n",
              "      <td>1</td>\n",
              "      <td>0</td>\n",
              "      <td>0</td>\n",
              "      <td>1</td>\n",
              "      <td>0</td>\n",
              "      <td>360.0</td>\n",
              "      <td>0</td>\n",
              "      <td>1</td>\n",
              "    </tr>\n",
              "    <tr>\n",
              "      <th>6</th>\n",
              "      <td>1</td>\n",
              "      <td>33.17</td>\n",
              "      <td>1.040</td>\n",
              "      <td>1</td>\n",
              "      <td>0</td>\n",
              "      <td>11</td>\n",
              "      <td>3</td>\n",
              "      <td>6.500</td>\n",
              "      <td>1</td>\n",
              "      <td>0</td>\n",
              "      <td>0</td>\n",
              "      <td>1</td>\n",
              "      <td>0</td>\n",
              "      <td>164.0</td>\n",
              "      <td>31285</td>\n",
              "      <td>1</td>\n",
              "    </tr>\n",
              "    <tr>\n",
              "      <th>7</th>\n",
              "      <td>0</td>\n",
              "      <td>22.92</td>\n",
              "      <td>11.585</td>\n",
              "      <td>1</td>\n",
              "      <td>0</td>\n",
              "      <td>2</td>\n",
              "      <td>7</td>\n",
              "      <td>0.040</td>\n",
              "      <td>1</td>\n",
              "      <td>0</td>\n",
              "      <td>0</td>\n",
              "      <td>0</td>\n",
              "      <td>0</td>\n",
              "      <td>80.0</td>\n",
              "      <td>1349</td>\n",
              "      <td>1</td>\n",
              "    </tr>\n",
              "    <tr>\n",
              "      <th>8</th>\n",
              "      <td>1</td>\n",
              "      <td>54.42</td>\n",
              "      <td>0.500</td>\n",
              "      <td>2</td>\n",
              "      <td>2</td>\n",
              "      <td>8</td>\n",
              "      <td>3</td>\n",
              "      <td>3.960</td>\n",
              "      <td>1</td>\n",
              "      <td>0</td>\n",
              "      <td>0</td>\n",
              "      <td>0</td>\n",
              "      <td>0</td>\n",
              "      <td>180.0</td>\n",
              "      <td>314</td>\n",
              "      <td>1</td>\n",
              "    </tr>\n",
              "    <tr>\n",
              "      <th>9</th>\n",
              "      <td>1</td>\n",
              "      <td>42.50</td>\n",
              "      <td>4.915</td>\n",
              "      <td>2</td>\n",
              "      <td>2</td>\n",
              "      <td>12</td>\n",
              "      <td>7</td>\n",
              "      <td>3.165</td>\n",
              "      <td>1</td>\n",
              "      <td>0</td>\n",
              "      <td>0</td>\n",
              "      <td>1</td>\n",
              "      <td>0</td>\n",
              "      <td>52.0</td>\n",
              "      <td>1442</td>\n",
              "      <td>1</td>\n",
              "    </tr>\n",
              "  </tbody>\n",
              "</table>\n",
              "</div>"
            ],
            "text/plain": [
              "   A1     A2      A3  A4  A5  A6  A7  ...  A10  A11  A12  A13    A14    A15  A16\n",
              "0   1  30.83   0.000   1   0  12   7  ...    1    1    0    0  202.0      0    1\n",
              "1   0  58.67   4.460   1   0  10   3  ...    1    6    0    0   43.0    560    1\n",
              "2   0  24.50   0.500   1   0  10   3  ...    0    0    0    0  280.0    824    1\n",
              "3   1  27.83   1.540   1   0  12   7  ...    1    5    1    0  100.0      3    1\n",
              "4   1  20.17   5.625   1   0  12   7  ...    0    0    0    2  120.0      0    1\n",
              "5   1  32.08   4.000   1   0   9   7  ...    0    0    1    0  360.0      0    1\n",
              "6   1  33.17   1.040   1   0  11   3  ...    0    0    1    0  164.0  31285    1\n",
              "7   0  22.92  11.585   1   0   2   7  ...    0    0    0    0   80.0   1349    1\n",
              "8   1  54.42   0.500   2   2   8   3  ...    0    0    0    0  180.0    314    1\n",
              "9   1  42.50   4.915   2   2  12   7  ...    0    0    1    0   52.0   1442    1\n",
              "\n",
              "[10 rows x 16 columns]"
            ]
          },
          "metadata": {
            "tags": []
          },
          "execution_count": 150
        }
      ]
    },
    {
      "cell_type": "markdown",
      "metadata": {
        "id": "GCJk7bQBD-ca"
      },
      "source": [
        "***working for corellation between features***"
      ]
    },
    {
      "cell_type": "code",
      "metadata": {
        "colab": {
          "base_uri": "https://localhost:8080/"
        },
        "id": "lOpdbNkmIJic",
        "outputId": "2d1a9f64-1836-40a8-c7a7-0614534ffa8a"
      },
      "source": [
        "dft['A5'].value_counts()"
      ],
      "execution_count": 151,
      "outputs": [
        {
          "output_type": "execute_result",
          "data": {
            "text/plain": [
              "0    525\n",
              "2    163\n",
              "1      2\n",
              "Name: A5, dtype: int64"
            ]
          },
          "metadata": {
            "tags": []
          },
          "execution_count": 151
        }
      ]
    },
    {
      "cell_type": "code",
      "metadata": {
        "id": "UELXcEzJ8032",
        "outputId": "0ee7fd38-ce46-4b24-d256-00011dfc6b82",
        "colab": {
          "base_uri": "https://localhost:8080/"
        }
      },
      "source": [
        "dft['A4'].value_counts()"
      ],
      "execution_count": 152,
      "outputs": [
        {
          "output_type": "execute_result",
          "data": {
            "text/plain": [
              "1    525\n",
              "2    163\n",
              "0      2\n",
              "Name: A4, dtype: int64"
            ]
          },
          "metadata": {
            "tags": []
          },
          "execution_count": 152
        }
      ]
    },
    {
      "cell_type": "code",
      "metadata": {
        "colab": {
          "base_uri": "https://localhost:8080/",
          "height": 350
        },
        "id": "0aE7rByJI1pL",
        "outputId": "ac242572-df17-4943-c0ac-a48715fb268f"
      },
      "source": [
        "sns.countplot(dft['A6'],label=\"count\")"
      ],
      "execution_count": 153,
      "outputs": [
        {
          "output_type": "stream",
          "text": [
            "/usr/local/lib/python3.7/dist-packages/seaborn/_decorators.py:43: FutureWarning: Pass the following variable as a keyword arg: x. From version 0.12, the only valid positional argument will be `data`, and passing other arguments without an explicit keyword will result in an error or misinterpretation.\n",
            "  FutureWarning\n"
          ],
          "name": "stderr"
        },
        {
          "output_type": "execute_result",
          "data": {
            "text/plain": [
              "<matplotlib.axes._subplots.AxesSubplot at 0x7f4669ca8fd0>"
            ]
          },
          "metadata": {
            "tags": []
          },
          "execution_count": 153
        },
        {
          "output_type": "display_data",
          "data": {
            "image/png": "[encoded data removed]",
            "text/plain": [
              "<Figure size 432x288 with 1 Axes>"
            ]
          },
          "metadata": {
            "tags": [],
            "needs_background": "light"
          }
        }
      ]
    },
    {
      "cell_type": "code",
      "metadata": {
        "colab": {
          "base_uri": "https://localhost:8080/",
          "height": 939
        },
        "id": "6R4eMksaPx4G",
        "outputId": "cc6e35e7-edd7-4d78-9bf5-4a5a44acabf3"
      },
      "source": [
        "plt.figure(figsize=(16,16))\n",
        "sns.heatmap(dft.iloc[:,0:16].corr(),annot=True,fmt=\".0%\")"
      ],
      "execution_count": 154,
      "outputs": [
        {
          "output_type": "execute_result",
          "data": {
            "text/plain": [
              "<matplotlib.axes._subplots.AxesSubplot at 0x7f466740ca90>"
            ]
          },
          "metadata": {
            "tags": []
          },
          "execution_count": 154
        },
        {
          "output_type": "display_data",
          "data": {
            "image/png": "[encoded data removed]",
            "text/plain": [
              "<Figure size 1152x1152 with 2 Axes>"
            ]
          },
          "metadata": {
            "tags": [],
            "needs_background": "light"
          }
        }
      ]
    },
    {
      "cell_type": "markdown",
      "metadata": {
        "id": "fnGl5XN6EJ4u"
      },
      "source": [
        "***heat map shows that A4 and A5 are stronly corellated*** *** so better drop one of these***"
      ]
    },
    {
      "cell_type": "code",
      "metadata": {
        "id": "i4g8zEoU9to4"
      },
      "source": [
        "list_drop = ['A5']\n",
        "dft.drop(list_drop, axis=1, inplace=True)\n",
        "df.drop(list_drop, axis=1, inplace=True)"
      ],
      "execution_count": 155,
      "outputs": []
    },
    {
      "cell_type": "markdown",
      "metadata": {
        "id": "GTAgqhb-Ehdv"
      },
      "source": [
        "***A5 has been dropped succesfully***"
      ]
    },
    {
      "cell_type": "code",
      "metadata": {
        "id": "NuT2TDlM94Mm",
        "outputId": "0376808d-ee0b-4434-e74a-85defed0e0ed",
        "colab": {
          "base_uri": "https://localhost:8080/",
          "height": 204
        }
      },
      "source": [
        "dft.head()"
      ],
      "execution_count": 156,
      "outputs": [
        {
          "output_type": "execute_result",
          "data": {
            "text/html": [
              "<div>\n",
              "<style scoped>\n",
              "    .dataframe tbody tr th:only-of-type {\n",
              "        vertical-align: middle;\n",
              "    }\n",
              "\n",
              "    .dataframe tbody tr th {\n",
              "        vertical-align: top;\n",
              "    }\n",
              "\n",
              "    .dataframe thead th {\n",
              "        text-align: right;\n",
              "    }\n",
              "</style>\n",
              "<table border=\"1\" class=\"dataframe\">\n",
              "  <thead>\n",
              "    <tr style=\"text-align: right;\">\n",
              "      <th></th>\n",
              "      <th>A1</th>\n",
              "      <th>A2</th>\n",
              "      <th>A3</th>\n",
              "      <th>A4</th>\n",
              "      <th>A6</th>\n",
              "      <th>A7</th>\n",
              "      <th>A8</th>\n",
              "      <th>A9</th>\n",
              "      <th>A10</th>\n",
              "      <th>A11</th>\n",
              "      <th>A12</th>\n",
              "      <th>A13</th>\n",
              "      <th>A14</th>\n",
              "      <th>A15</th>\n",
              "      <th>A16</th>\n",
              "    </tr>\n",
              "  </thead>\n",
              "  <tbody>\n",
              "    <tr>\n",
              "      <th>0</th>\n",
              "      <td>1</td>\n",
              "      <td>30.83</td>\n",
              "      <td>0.000</td>\n",
              "      <td>1</td>\n",
              "      <td>12</td>\n",
              "      <td>7</td>\n",
              "      <td>1.25</td>\n",
              "      <td>1</td>\n",
              "      <td>1</td>\n",
              "      <td>1</td>\n",
              "      <td>0</td>\n",
              "      <td>0</td>\n",
              "      <td>202.0</td>\n",
              "      <td>0</td>\n",
              "      <td>1</td>\n",
              "    </tr>\n",
              "    <tr>\n",
              "      <th>1</th>\n",
              "      <td>0</td>\n",
              "      <td>58.67</td>\n",
              "      <td>4.460</td>\n",
              "      <td>1</td>\n",
              "      <td>10</td>\n",
              "      <td>3</td>\n",
              "      <td>3.04</td>\n",
              "      <td>1</td>\n",
              "      <td>1</td>\n",
              "      <td>6</td>\n",
              "      <td>0</td>\n",
              "      <td>0</td>\n",
              "      <td>43.0</td>\n",
              "      <td>560</td>\n",
              "      <td>1</td>\n",
              "    </tr>\n",
              "    <tr>\n",
              "      <th>2</th>\n",
              "      <td>0</td>\n",
              "      <td>24.50</td>\n",
              "      <td>0.500</td>\n",
              "      <td>1</td>\n",
              "      <td>10</td>\n",
              "      <td>3</td>\n",
              "      <td>1.50</td>\n",
              "      <td>1</td>\n",
              "      <td>0</td>\n",
              "      <td>0</td>\n",
              "      <td>0</td>\n",
              "      <td>0</td>\n",
              "      <td>280.0</td>\n",
              "      <td>824</td>\n",
              "      <td>1</td>\n",
              "    </tr>\n",
              "    <tr>\n",
              "      <th>3</th>\n",
              "      <td>1</td>\n",
              "      <td>27.83</td>\n",
              "      <td>1.540</td>\n",
              "      <td>1</td>\n",
              "      <td>12</td>\n",
              "      <td>7</td>\n",
              "      <td>3.75</td>\n",
              "      <td>1</td>\n",
              "      <td>1</td>\n",
              "      <td>5</td>\n",
              "      <td>1</td>\n",
              "      <td>0</td>\n",
              "      <td>100.0</td>\n",
              "      <td>3</td>\n",
              "      <td>1</td>\n",
              "    </tr>\n",
              "    <tr>\n",
              "      <th>4</th>\n",
              "      <td>1</td>\n",
              "      <td>20.17</td>\n",
              "      <td>5.625</td>\n",
              "      <td>1</td>\n",
              "      <td>12</td>\n",
              "      <td>7</td>\n",
              "      <td>1.71</td>\n",
              "      <td>1</td>\n",
              "      <td>0</td>\n",
              "      <td>0</td>\n",
              "      <td>0</td>\n",
              "      <td>2</td>\n",
              "      <td>120.0</td>\n",
              "      <td>0</td>\n",
              "      <td>1</td>\n",
              "    </tr>\n",
              "  </tbody>\n",
              "</table>\n",
              "</div>"
            ],
            "text/plain": [
              "   A1     A2     A3  A4  A6  A7    A8  A9  A10  A11  A12  A13    A14  A15  A16\n",
              "0   1  30.83  0.000   1  12   7  1.25   1    1    1    0    0  202.0    0    1\n",
              "1   0  58.67  4.460   1  10   3  3.04   1    1    6    0    0   43.0  560    1\n",
              "2   0  24.50  0.500   1  10   3  1.50   1    0    0    0    0  280.0  824    1\n",
              "3   1  27.83  1.540   1  12   7  3.75   1    1    5    1    0  100.0    3    1\n",
              "4   1  20.17  5.625   1  12   7  1.71   1    0    0    0    2  120.0    0    1"
            ]
          },
          "metadata": {
            "tags": []
          },
          "execution_count": 156
        }
      ]
    },
    {
      "cell_type": "code",
      "metadata": {
        "id": "aziy8riZ98Pm",
        "outputId": "ecec493d-f4eb-4151-c1b7-03185b5f00f4",
        "colab": {
          "base_uri": "https://localhost:8080/",
          "height": 204
        }
      },
      "source": [
        "df.head()"
      ],
      "execution_count": 157,
      "outputs": [
        {
          "output_type": "execute_result",
          "data": {
            "text/html": [
              "<div>\n",
              "<style scoped>\n",
              "    .dataframe tbody tr th:only-of-type {\n",
              "        vertical-align: middle;\n",
              "    }\n",
              "\n",
              "    .dataframe tbody tr th {\n",
              "        vertical-align: top;\n",
              "    }\n",
              "\n",
              "    .dataframe thead th {\n",
              "        text-align: right;\n",
              "    }\n",
              "</style>\n",
              "<table border=\"1\" class=\"dataframe\">\n",
              "  <thead>\n",
              "    <tr style=\"text-align: right;\">\n",
              "      <th></th>\n",
              "      <th>A1</th>\n",
              "      <th>A2</th>\n",
              "      <th>A3</th>\n",
              "      <th>A4</th>\n",
              "      <th>A6</th>\n",
              "      <th>A7</th>\n",
              "      <th>A8</th>\n",
              "      <th>A9</th>\n",
              "      <th>A10</th>\n",
              "      <th>A11</th>\n",
              "      <th>A12</th>\n",
              "      <th>A13</th>\n",
              "      <th>A14</th>\n",
              "      <th>A15</th>\n",
              "      <th>A16</th>\n",
              "    </tr>\n",
              "  </thead>\n",
              "  <tbody>\n",
              "    <tr>\n",
              "      <th>0</th>\n",
              "      <td>1</td>\n",
              "      <td>44.25</td>\n",
              "      <td>11.00</td>\n",
              "      <td>1</td>\n",
              "      <td>3</td>\n",
              "      <td>5</td>\n",
              "      <td>1.500</td>\n",
              "      <td>1</td>\n",
              "      <td>0</td>\n",
              "      <td>0</td>\n",
              "      <td>0</td>\n",
              "      <td>1</td>\n",
              "      <td>0.0</td>\n",
              "      <td>0</td>\n",
              "      <td>0</td>\n",
              "    </tr>\n",
              "    <tr>\n",
              "      <th>1</th>\n",
              "      <td>1</td>\n",
              "      <td>23.58</td>\n",
              "      <td>0.46</td>\n",
              "      <td>1</td>\n",
              "      <td>11</td>\n",
              "      <td>5</td>\n",
              "      <td>2.625</td>\n",
              "      <td>1</td>\n",
              "      <td>1</td>\n",
              "      <td>6</td>\n",
              "      <td>1</td>\n",
              "      <td>0</td>\n",
              "      <td>208.0</td>\n",
              "      <td>347</td>\n",
              "      <td>0</td>\n",
              "    </tr>\n",
              "    <tr>\n",
              "      <th>2</th>\n",
              "      <td>1</td>\n",
              "      <td>23.92</td>\n",
              "      <td>1.50</td>\n",
              "      <td>0</td>\n",
              "      <td>3</td>\n",
              "      <td>2</td>\n",
              "      <td>1.875</td>\n",
              "      <td>1</td>\n",
              "      <td>1</td>\n",
              "      <td>6</td>\n",
              "      <td>0</td>\n",
              "      <td>0</td>\n",
              "      <td>200.0</td>\n",
              "      <td>327</td>\n",
              "      <td>1</td>\n",
              "    </tr>\n",
              "    <tr>\n",
              "      <th>3</th>\n",
              "      <td>1</td>\n",
              "      <td>33.17</td>\n",
              "      <td>1.00</td>\n",
              "      <td>0</td>\n",
              "      <td>12</td>\n",
              "      <td>5</td>\n",
              "      <td>0.750</td>\n",
              "      <td>1</td>\n",
              "      <td>1</td>\n",
              "      <td>7</td>\n",
              "      <td>1</td>\n",
              "      <td>0</td>\n",
              "      <td>340.0</td>\n",
              "      <td>4071</td>\n",
              "      <td>1</td>\n",
              "    </tr>\n",
              "    <tr>\n",
              "      <th>4</th>\n",
              "      <td>1</td>\n",
              "      <td>48.33</td>\n",
              "      <td>12.00</td>\n",
              "      <td>0</td>\n",
              "      <td>8</td>\n",
              "      <td>5</td>\n",
              "      <td>16.000</td>\n",
              "      <td>1</td>\n",
              "      <td>0</td>\n",
              "      <td>0</td>\n",
              "      <td>0</td>\n",
              "      <td>1</td>\n",
              "      <td>110.0</td>\n",
              "      <td>0</td>\n",
              "      <td>1</td>\n",
              "    </tr>\n",
              "  </tbody>\n",
              "</table>\n",
              "</div>"
            ],
            "text/plain": [
              "   A1     A2     A3  A4  A6  A7      A8  ...  A10  A11  A12  A13    A14   A15  A16\n",
              "0   1  44.25  11.00   1   3   5   1.500  ...    0    0    0    1    0.0     0    0\n",
              "1   1  23.58   0.46   1  11   5   2.625  ...    1    6    1    0  208.0   347    0\n",
              "2   1  23.92   1.50   0   3   2   1.875  ...    1    6    0    0  200.0   327    1\n",
              "3   1  33.17   1.00   0  12   5   0.750  ...    1    7    1    0  340.0  4071    1\n",
              "4   1  48.33  12.00   0   8   5  16.000  ...    0    0    0    1  110.0     0    1\n",
              "\n",
              "[5 rows x 15 columns]"
            ]
          },
          "metadata": {
            "tags": []
          },
          "execution_count": 157
        }
      ]
    },
    {
      "cell_type": "markdown",
      "metadata": {
        "id": "dZScwxZgFuTE"
      },
      "source": [
        "sns.boxplot(x=dft['A15'])"
      ]
    },
    {
      "cell_type": "code",
      "metadata": {
        "id": "_skO9Yy7F2PA",
        "outputId": "1b8c2ce8-f128-4732-fdbd-a6afcea4fd39",
        "colab": {
          "base_uri": "https://localhost:8080/",
          "height": 296
        }
      },
      "source": [
        "sns.boxplot(x=dft['A15'])"
      ],
      "execution_count": 158,
      "outputs": [
        {
          "output_type": "execute_result",
          "data": {
            "text/plain": [
              "<matplotlib.axes._subplots.AxesSubplot at 0x7f466704b3d0>"
            ]
          },
          "metadata": {
            "tags": []
          },
          "execution_count": 158
        },
        {
          "output_type": "display_data",
          "data": {
            "image/png": "[encoded data removed]",
            "text/plain": [
              "<Figure size 432x288 with 1 Axes>"
            ]
          },
          "metadata": {
            "tags": [],
            "needs_background": "light"
          }
        }
      ]
    },
    {
      "cell_type": "markdown",
      "metadata": {
        "id": "5d69qJQPIbFd"
      },
      "source": [
        "few outliers are there but cango with it"
      ]
    },
    {
      "cell_type": "markdown",
      "metadata": {
        "id": "2IOscWs8IlDH"
      },
      "source": [
        "***Breaking the code in 4 parts as dependent andd independent features***"
      ]
    },
    {
      "cell_type": "code",
      "metadata": {
        "id": "wPpGbOpGQ7na"
      },
      "source": [
        "# breaking data\n",
        "X_train=dft.iloc[ : , 0:14]\n",
        "Y_train=dft.iloc[ : , 14:]\n",
        "X_test=df.iloc[ : , 0:14]\n",
        "Y_test=df.iloc[ : , 14:]\n"
      ],
      "execution_count": 159,
      "outputs": []
    },
    {
      "cell_type": "code",
      "metadata": {
        "colab": {
          "base_uri": "https://localhost:8080/",
          "height": 359
        },
        "id": "0j6I48U4RIus",
        "outputId": "fd0ed331-2b51-4725-a82a-2913bdc9620c"
      },
      "source": [
        "X_test.head(10)"
      ],
      "execution_count": 160,
      "outputs": [
        {
          "output_type": "execute_result",
          "data": {
            "text/html": [
              "<div>\n",
              "<style scoped>\n",
              "    .dataframe tbody tr th:only-of-type {\n",
              "        vertical-align: middle;\n",
              "    }\n",
              "\n",
              "    .dataframe tbody tr th {\n",
              "        vertical-align: top;\n",
              "    }\n",
              "\n",
              "    .dataframe thead th {\n",
              "        text-align: right;\n",
              "    }\n",
              "</style>\n",
              "<table border=\"1\" class=\"dataframe\">\n",
              "  <thead>\n",
              "    <tr style=\"text-align: right;\">\n",
              "      <th></th>\n",
              "      <th>A1</th>\n",
              "      <th>A2</th>\n",
              "      <th>A3</th>\n",
              "      <th>A4</th>\n",
              "      <th>A6</th>\n",
              "      <th>A7</th>\n",
              "      <th>A8</th>\n",
              "      <th>A9</th>\n",
              "      <th>A10</th>\n",
              "      <th>A11</th>\n",
              "      <th>A12</th>\n",
              "      <th>A13</th>\n",
              "      <th>A14</th>\n",
              "      <th>A15</th>\n",
              "    </tr>\n",
              "  </thead>\n",
              "  <tbody>\n",
              "    <tr>\n",
              "      <th>0</th>\n",
              "      <td>1</td>\n",
              "      <td>44.25</td>\n",
              "      <td>11.000</td>\n",
              "      <td>1</td>\n",
              "      <td>3</td>\n",
              "      <td>5</td>\n",
              "      <td>1.500</td>\n",
              "      <td>1</td>\n",
              "      <td>0</td>\n",
              "      <td>0</td>\n",
              "      <td>0</td>\n",
              "      <td>1</td>\n",
              "      <td>0.0</td>\n",
              "      <td>0</td>\n",
              "    </tr>\n",
              "    <tr>\n",
              "      <th>1</th>\n",
              "      <td>1</td>\n",
              "      <td>23.58</td>\n",
              "      <td>0.460</td>\n",
              "      <td>1</td>\n",
              "      <td>11</td>\n",
              "      <td>5</td>\n",
              "      <td>2.625</td>\n",
              "      <td>1</td>\n",
              "      <td>1</td>\n",
              "      <td>6</td>\n",
              "      <td>1</td>\n",
              "      <td>0</td>\n",
              "      <td>208.0</td>\n",
              "      <td>347</td>\n",
              "    </tr>\n",
              "    <tr>\n",
              "      <th>2</th>\n",
              "      <td>1</td>\n",
              "      <td>23.92</td>\n",
              "      <td>1.500</td>\n",
              "      <td>0</td>\n",
              "      <td>3</td>\n",
              "      <td>2</td>\n",
              "      <td>1.875</td>\n",
              "      <td>1</td>\n",
              "      <td>1</td>\n",
              "      <td>6</td>\n",
              "      <td>0</td>\n",
              "      <td>0</td>\n",
              "      <td>200.0</td>\n",
              "      <td>327</td>\n",
              "    </tr>\n",
              "    <tr>\n",
              "      <th>3</th>\n",
              "      <td>1</td>\n",
              "      <td>33.17</td>\n",
              "      <td>1.000</td>\n",
              "      <td>0</td>\n",
              "      <td>12</td>\n",
              "      <td>5</td>\n",
              "      <td>0.750</td>\n",
              "      <td>1</td>\n",
              "      <td>1</td>\n",
              "      <td>7</td>\n",
              "      <td>1</td>\n",
              "      <td>0</td>\n",
              "      <td>340.0</td>\n",
              "      <td>4071</td>\n",
              "    </tr>\n",
              "    <tr>\n",
              "      <th>4</th>\n",
              "      <td>1</td>\n",
              "      <td>48.33</td>\n",
              "      <td>12.000</td>\n",
              "      <td>0</td>\n",
              "      <td>8</td>\n",
              "      <td>5</td>\n",
              "      <td>16.000</td>\n",
              "      <td>1</td>\n",
              "      <td>0</td>\n",
              "      <td>0</td>\n",
              "      <td>0</td>\n",
              "      <td>1</td>\n",
              "      <td>110.0</td>\n",
              "      <td>0</td>\n",
              "    </tr>\n",
              "    <tr>\n",
              "      <th>5</th>\n",
              "      <td>1</td>\n",
              "      <td>76.75</td>\n",
              "      <td>22.290</td>\n",
              "      <td>0</td>\n",
              "      <td>4</td>\n",
              "      <td>6</td>\n",
              "      <td>12.750</td>\n",
              "      <td>1</td>\n",
              "      <td>1</td>\n",
              "      <td>1</td>\n",
              "      <td>1</td>\n",
              "      <td>0</td>\n",
              "      <td>0.0</td>\n",
              "      <td>109</td>\n",
              "    </tr>\n",
              "    <tr>\n",
              "      <th>6</th>\n",
              "      <td>1</td>\n",
              "      <td>51.33</td>\n",
              "      <td>10.000</td>\n",
              "      <td>0</td>\n",
              "      <td>6</td>\n",
              "      <td>0</td>\n",
              "      <td>0.000</td>\n",
              "      <td>1</td>\n",
              "      <td>1</td>\n",
              "      <td>11</td>\n",
              "      <td>0</td>\n",
              "      <td>0</td>\n",
              "      <td>0.0</td>\n",
              "      <td>1249</td>\n",
              "    </tr>\n",
              "    <tr>\n",
              "      <th>7</th>\n",
              "      <td>1</td>\n",
              "      <td>34.75</td>\n",
              "      <td>15.000</td>\n",
              "      <td>0</td>\n",
              "      <td>10</td>\n",
              "      <td>4</td>\n",
              "      <td>5.375</td>\n",
              "      <td>1</td>\n",
              "      <td>1</td>\n",
              "      <td>9</td>\n",
              "      <td>1</td>\n",
              "      <td>0</td>\n",
              "      <td>0.0</td>\n",
              "      <td>134</td>\n",
              "    </tr>\n",
              "    <tr>\n",
              "      <th>8</th>\n",
              "      <td>1</td>\n",
              "      <td>38.58</td>\n",
              "      <td>3.335</td>\n",
              "      <td>0</td>\n",
              "      <td>11</td>\n",
              "      <td>5</td>\n",
              "      <td>4.000</td>\n",
              "      <td>1</td>\n",
              "      <td>1</td>\n",
              "      <td>14</td>\n",
              "      <td>0</td>\n",
              "      <td>0</td>\n",
              "      <td>383.0</td>\n",
              "      <td>1344</td>\n",
              "    </tr>\n",
              "    <tr>\n",
              "      <th>9</th>\n",
              "      <td>0</td>\n",
              "      <td>22.42</td>\n",
              "      <td>11.250</td>\n",
              "      <td>1</td>\n",
              "      <td>12</td>\n",
              "      <td>2</td>\n",
              "      <td>0.750</td>\n",
              "      <td>1</td>\n",
              "      <td>1</td>\n",
              "      <td>4</td>\n",
              "      <td>0</td>\n",
              "      <td>0</td>\n",
              "      <td>0.0</td>\n",
              "      <td>321</td>\n",
              "    </tr>\n",
              "  </tbody>\n",
              "</table>\n",
              "</div>"
            ],
            "text/plain": [
              "   A1     A2      A3  A4  A6  A7      A8  A9  A10  A11  A12  A13    A14   A15\n",
              "0   1  44.25  11.000   1   3   5   1.500   1    0    0    0    1    0.0     0\n",
              "1   1  23.58   0.460   1  11   5   2.625   1    1    6    1    0  208.0   347\n",
              "2   1  23.92   1.500   0   3   2   1.875   1    1    6    0    0  200.0   327\n",
              "3   1  33.17   1.000   0  12   5   0.750   1    1    7    1    0  340.0  4071\n",
              "4   1  48.33  12.000   0   8   5  16.000   1    0    0    0    1  110.0     0\n",
              "5   1  76.75  22.290   0   4   6  12.750   1    1    1    1    0    0.0   109\n",
              "6   1  51.33  10.000   0   6   0   0.000   1    1   11    0    0    0.0  1249\n",
              "7   1  34.75  15.000   0  10   4   5.375   1    1    9    1    0    0.0   134\n",
              "8   1  38.58   3.335   0  11   5   4.000   1    1   14    0    0  383.0  1344\n",
              "9   0  22.42  11.250   1  12   2   0.750   1    1    4    0    0    0.0   321"
            ]
          },
          "metadata": {
            "tags": []
          },
          "execution_count": 160
        }
      ]
    },
    {
      "cell_type": "markdown",
      "metadata": {
        "id": "8SBkTkT-Ix2j"
      },
      "source": [
        "***Sccaling the training dataset Here***"
      ]
    },
    {
      "cell_type": "code",
      "metadata": {
        "id": "WmXn8jNUUD91"
      },
      "source": [
        "# scaling the datset\n",
        "from sklearn.preprocessing import StandardScaler\n",
        "X_train=StandardScaler().fit_transform(X_train)\n",
        "X_test=StandardScaler().fit_transform(X_test)"
      ],
      "execution_count": 161,
      "outputs": []
    },
    {
      "cell_type": "markdown",
      "metadata": {
        "id": "SA2r1j9jI5NP"
      },
      "source": [
        "***Model building starts here***  ***using 1 functions and 3 algorithms for accuracy comparision***"
      ]
    },
    {
      "cell_type": "code",
      "metadata": {
        "id": "QHEEQf0rUQVH"
      },
      "source": [
        "# building models\n",
        "def models(X_train,Y_train):\n",
        "        #logistic regression\n",
        "        from sklearn.linear_model import LogisticRegression\n",
        "        log=LogisticRegression(random_state=0)\n",
        "        log.fit(X_train,Y_train)\n",
        "        \n",
        "        \n",
        "        #Decision Tree\n",
        "        from sklearn.tree import DecisionTreeClassifier\n",
        "        tree=DecisionTreeClassifier(random_state=0,criterion=\"entropy\")\n",
        "        tree.fit(X_train,Y_train)\n",
        "        \n",
        "        #Random Forest\n",
        "        from sklearn.ensemble import RandomForestClassifier\n",
        "        forest=RandomForestClassifier(random_state=0,criterion=\"entropy\",n_estimators=10)\n",
        "        forest.fit(X_train,Y_train)\n",
        "        \n",
        "        print('[0]logistic regression accuracy:',log.score(X_train,Y_train))\n",
        "        print('[1]Decision tree accuracy:',tree.score(X_train,Y_train))\n",
        "        print('[2]Random forest accuracy:',forest.score(X_train,Y_train))\n",
        "        \n",
        "        return log,tree,forest"
      ],
      "execution_count": 162,
      "outputs": []
    },
    {
      "cell_type": "markdown",
      "metadata": {
        "id": "8O_aIaPSJKln"
      },
      "source": [
        "***compiling above model with train dataset***"
      ]
    },
    {
      "cell_type": "code",
      "metadata": {
        "colab": {
          "base_uri": "https://localhost:8080/"
        },
        "id": "CW4jjMlQUWw8",
        "outputId": "c6714baf-549a-43b6-e730-9857c8e06457"
      },
      "source": [
        "# compiling model\n",
        "model=models(X_train,Y_train.values.ravel())"
      ],
      "execution_count": 163,
      "outputs": [
        {
          "output_type": "stream",
          "text": [
            "[0]logistic regression accuracy: 0.8710144927536232\n",
            "[1]Decision tree accuracy: 1.0\n",
            "[2]Random forest accuracy: 0.9884057971014493\n"
          ],
          "name": "stdout"
        }
      ]
    },
    {
      "cell_type": "markdown",
      "metadata": {
        "id": "GPiOprP2Jemy"
      },
      "source": [
        "***compiling model and getting accuracy for twst dataset***"
      ]
    },
    {
      "cell_type": "code",
      "metadata": {
        "colab": {
          "base_uri": "https://localhost:8080/"
        },
        "id": "OJDjYnyqX9G9",
        "outputId": "feda94be-35fd-4479-f160-8554c9eef9ae"
      },
      "source": [
        "from sklearn.metrics import accuracy_score\n",
        "from sklearn.metrics import classification_report\n",
        "\n",
        "for i in range(len(model)):\n",
        "    print(\"Model\",i)\n",
        "    print(classification_report(Y_test.values.ravel(),model[i].predict(X_test)))\n",
        "    print('Accuracy : ',accuracy_score(Y_test.values.ravel(),model[i].predict(X_test)))"
      ],
      "execution_count": 164,
      "outputs": [
        {
          "output_type": "stream",
          "text": [
            "Model 0\n",
            "              precision    recall  f1-score   support\n",
            "\n",
            "           0       0.93      0.94      0.93        82\n",
            "           1       0.91      0.89      0.90        54\n",
            "\n",
            "    accuracy                           0.92       136\n",
            "   macro avg       0.92      0.91      0.92       136\n",
            "weighted avg       0.92      0.92      0.92       136\n",
            "\n",
            "Accuracy :  0.9191176470588235\n",
            "Model 1\n",
            "              precision    recall  f1-score   support\n",
            "\n",
            "           0       0.92      0.95      0.93        82\n",
            "           1       0.92      0.87      0.90        54\n",
            "\n",
            "    accuracy                           0.92       136\n",
            "   macro avg       0.92      0.91      0.91       136\n",
            "weighted avg       0.92      0.92      0.92       136\n",
            "\n",
            "Accuracy :  0.9191176470588235\n",
            "Model 2\n",
            "              precision    recall  f1-score   support\n",
            "\n",
            "           0       0.93      1.00      0.96        82\n",
            "           1       1.00      0.89      0.94        54\n",
            "\n",
            "    accuracy                           0.96       136\n",
            "   macro avg       0.97      0.94      0.95       136\n",
            "weighted avg       0.96      0.96      0.96       136\n",
            "\n",
            "Accuracy :  0.9558823529411765\n"
          ],
          "name": "stdout"
        }
      ]
    },
    {
      "cell_type": "markdown",
      "metadata": {
        "id": "8ScRFifxJpzM"
      },
      "source": [
        "***accuracy, precision,f1-score above***\n",
        "\n"
      ]
    },
    {
      "cell_type": "markdown",
      "metadata": {
        "id": "a9eUsNzMKAlC"
      },
      "source": [
        "***predicted value for random forest***"
      ]
    },
    {
      "cell_type": "code",
      "metadata": {
        "colab": {
          "base_uri": "https://localhost:8080/"
        },
        "id": "R83hU9VgYY9K",
        "outputId": "b7a34a74-4f1d-4510-96ce-8902e786f0d2"
      },
      "source": [
        "# prediction of random-forest\n",
        "pred=model[2].predict(X_test)\n",
        "print('Predicted values:')\n",
        "print(pred)\n",
        "print('Actual values:')\n",
        "print(Y_test.values.ravel())"
      ],
      "execution_count": 165,
      "outputs": [
        {
          "output_type": "stream",
          "text": [
            "Predicted values:\n",
            "[0 0 1 1 1 1 1 1 1 1 1 1 1 1 1 1 1 0 1 1 1 1 1 1 1 1 1 1 1 1 1 1 1 1 1 1 0\n",
            " 1 1 1 1 1 1 1 1 1 1 0 0 1 1 1 1 1 0 0 0 0 0 0 0 0 0 0 0 0 0 0 0 0 0 0 0 0\n",
            " 0 0 0 0 0 0 0 0 0 0 0 0 0 0 0 0 0 0 0 0 0 0 0 0 0 0 0 0 0 0 0 0 0 0 0 0 0\n",
            " 0 0 0 0 0 0 0 0 0 0 0 0 0 0 0 0 0 0 0 0 0 0 0 0 0]\n",
            "Actual values:\n",
            "[0 0 1 1 1 1 1 1 1 1 1 1 1 1 1 1 1 1 1 1 1 1 1 1 1 1 1 1 1 1 1 1 1 1 1 1 1\n",
            " 1 1 1 1 1 1 1 1 1 1 1 1 1 1 1 1 1 0 0 0 0 1 0 0 0 0 0 0 0 0 0 0 0 0 0 1 0\n",
            " 0 0 0 0 0 0 0 0 0 0 0 0 0 0 0 0 0 0 0 0 0 0 0 0 0 0 0 0 0 0 0 0 0 0 0 0 0\n",
            " 0 0 0 0 0 0 0 0 0 0 0 0 0 0 0 0 0 0 0 0 0 0 0 0 0]\n"
          ],
          "name": "stdout"
        }
      ]
    },
    {
      "cell_type": "markdown",
      "metadata": {
        "id": "4Aid3qdVKIfR"
      },
      "source": [
        "## Now applying neural network\n"
      ]
    },
    {
      "cell_type": "code",
      "metadata": {
        "id": "b7vZeNJXwd2R",
        "outputId": "d9fb0dd9-82a2-4fe3-f32d-d742467c74d9",
        "colab": {
          "base_uri": "https://localhost:8080/",
          "height": 204
        }
      },
      "source": [
        "dft.head()"
      ],
      "execution_count": 166,
      "outputs": [
        {
          "output_type": "execute_result",
          "data": {
            "text/html": [
              "<div>\n",
              "<style scoped>\n",
              "    .dataframe tbody tr th:only-of-type {\n",
              "        vertical-align: middle;\n",
              "    }\n",
              "\n",
              "    .dataframe tbody tr th {\n",
              "        vertical-align: top;\n",
              "    }\n",
              "\n",
              "    .dataframe thead th {\n",
              "        text-align: right;\n",
              "    }\n",
              "</style>\n",
              "<table border=\"1\" class=\"dataframe\">\n",
              "  <thead>\n",
              "    <tr style=\"text-align: right;\">\n",
              "      <th></th>\n",
              "      <th>A1</th>\n",
              "      <th>A2</th>\n",
              "      <th>A3</th>\n",
              "      <th>A4</th>\n",
              "      <th>A6</th>\n",
              "      <th>A7</th>\n",
              "      <th>A8</th>\n",
              "      <th>A9</th>\n",
              "      <th>A10</th>\n",
              "      <th>A11</th>\n",
              "      <th>A12</th>\n",
              "      <th>A13</th>\n",
              "      <th>A14</th>\n",
              "      <th>A15</th>\n",
              "      <th>A16</th>\n",
              "    </tr>\n",
              "  </thead>\n",
              "  <tbody>\n",
              "    <tr>\n",
              "      <th>0</th>\n",
              "      <td>1</td>\n",
              "      <td>30.83</td>\n",
              "      <td>0.000</td>\n",
              "      <td>1</td>\n",
              "      <td>12</td>\n",
              "      <td>7</td>\n",
              "      <td>1.25</td>\n",
              "      <td>1</td>\n",
              "      <td>1</td>\n",
              "      <td>1</td>\n",
              "      <td>0</td>\n",
              "      <td>0</td>\n",
              "      <td>202.0</td>\n",
              "      <td>0</td>\n",
              "      <td>1</td>\n",
              "    </tr>\n",
              "    <tr>\n",
              "      <th>1</th>\n",
              "      <td>0</td>\n",
              "      <td>58.67</td>\n",
              "      <td>4.460</td>\n",
              "      <td>1</td>\n",
              "      <td>10</td>\n",
              "      <td>3</td>\n",
              "      <td>3.04</td>\n",
              "      <td>1</td>\n",
              "      <td>1</td>\n",
              "      <td>6</td>\n",
              "      <td>0</td>\n",
              "      <td>0</td>\n",
              "      <td>43.0</td>\n",
              "      <td>560</td>\n",
              "      <td>1</td>\n",
              "    </tr>\n",
              "    <tr>\n",
              "      <th>2</th>\n",
              "      <td>0</td>\n",
              "      <td>24.50</td>\n",
              "      <td>0.500</td>\n",
              "      <td>1</td>\n",
              "      <td>10</td>\n",
              "      <td>3</td>\n",
              "      <td>1.50</td>\n",
              "      <td>1</td>\n",
              "      <td>0</td>\n",
              "      <td>0</td>\n",
              "      <td>0</td>\n",
              "      <td>0</td>\n",
              "      <td>280.0</td>\n",
              "      <td>824</td>\n",
              "      <td>1</td>\n",
              "    </tr>\n",
              "    <tr>\n",
              "      <th>3</th>\n",
              "      <td>1</td>\n",
              "      <td>27.83</td>\n",
              "      <td>1.540</td>\n",
              "      <td>1</td>\n",
              "      <td>12</td>\n",
              "      <td>7</td>\n",
              "      <td>3.75</td>\n",
              "      <td>1</td>\n",
              "      <td>1</td>\n",
              "      <td>5</td>\n",
              "      <td>1</td>\n",
              "      <td>0</td>\n",
              "      <td>100.0</td>\n",
              "      <td>3</td>\n",
              "      <td>1</td>\n",
              "    </tr>\n",
              "    <tr>\n",
              "      <th>4</th>\n",
              "      <td>1</td>\n",
              "      <td>20.17</td>\n",
              "      <td>5.625</td>\n",
              "      <td>1</td>\n",
              "      <td>12</td>\n",
              "      <td>7</td>\n",
              "      <td>1.71</td>\n",
              "      <td>1</td>\n",
              "      <td>0</td>\n",
              "      <td>0</td>\n",
              "      <td>0</td>\n",
              "      <td>2</td>\n",
              "      <td>120.0</td>\n",
              "      <td>0</td>\n",
              "      <td>1</td>\n",
              "    </tr>\n",
              "  </tbody>\n",
              "</table>\n",
              "</div>"
            ],
            "text/plain": [
              "   A1     A2     A3  A4  A6  A7    A8  A9  A10  A11  A12  A13    A14  A15  A16\n",
              "0   1  30.83  0.000   1  12   7  1.25   1    1    1    0    0  202.0    0    1\n",
              "1   0  58.67  4.460   1  10   3  3.04   1    1    6    0    0   43.0  560    1\n",
              "2   0  24.50  0.500   1  10   3  1.50   1    0    0    0    0  280.0  824    1\n",
              "3   1  27.83  1.540   1  12   7  3.75   1    1    5    1    0  100.0    3    1\n",
              "4   1  20.17  5.625   1  12   7  1.71   1    0    0    0    2  120.0    0    1"
            ]
          },
          "metadata": {
            "tags": []
          },
          "execution_count": 166
        }
      ]
    },
    {
      "cell_type": "markdown",
      "metadata": {
        "id": "9L_K1vQlKUcV"
      },
      "source": [
        "***importing tenserflow,keras*** "
      ]
    },
    {
      "cell_type": "code",
      "metadata": {
        "id": "C2fQytBsqgSv"
      },
      "source": [
        "import tensorflow as tf\n",
        "from tensorflow import keras\n",
        "from tensorflow.keras import layers\n",
        "from keras.models import Sequential\n",
        "from keras.layers import Dense"
      ],
      "execution_count": 167,
      "outputs": []
    },
    {
      "cell_type": "markdown",
      "metadata": {
        "id": "F-xS_k-BKf0N"
      },
      "source": [
        "***building a sequential NN densely connected***"
      ]
    },
    {
      "cell_type": "code",
      "metadata": {
        "id": "Qd7h-BQXvq_f"
      },
      "source": [
        "classifier=Sequential()\n",
        "classifier.add(Dense(8,kernel_initializer='he_uniform',activation='relu',input_dim=14))\n",
        "classifier.add(Dense(8,kernel_initializer='he_uniform',activation='relu'))\n",
        "classifier.add(Dense(1,kernel_initializer='he_uniform',activation='sigmoid'))"
      ],
      "execution_count": 168,
      "outputs": []
    },
    {
      "cell_type": "markdown",
      "metadata": {
        "id": "8CzDBR4kKrs8"
      },
      "source": [
        "***compiling the model with adam optimizer with batch size 10 upto 100 epochs***"
      ]
    },
    {
      "cell_type": "code",
      "metadata": {
        "id": "TcUtKiTyzyVW"
      },
      "source": [
        "classifier.compile(optimizer='adam',loss='binary_crossentropy')"
      ],
      "execution_count": 169,
      "outputs": []
    },
    {
      "cell_type": "markdown",
      "metadata": {
        "id": "jXJ7ulzkK8IP"
      },
      "source": [
        "***running model on dataset***"
      ]
    },
    {
      "cell_type": "code",
      "metadata": {
        "id": "jsqjffVW1JgK",
        "outputId": "59eb6e23-b88a-4ea0-ddc6-abb689ea77b4",
        "colab": {
          "base_uri": "https://localhost:8080/"
        }
      },
      "source": [
        "classifier.fit(X_train,Y_train,batch_size=10,epochs=100)"
      ],
      "execution_count": 170,
      "outputs": [
        {
          "output_type": "stream",
          "text": [
            "Epoch 1/100\n",
            "69/69 [==============================] - 1s 1ms/step - loss: 0.8964\n",
            "Epoch 2/100\n",
            "69/69 [==============================] - 0s 1ms/step - loss: 0.6915\n",
            "Epoch 3/100\n",
            "69/69 [==============================] - 0s 1ms/step - loss: 0.5947\n",
            "Epoch 4/100\n",
            "69/69 [==============================] - 0s 1ms/step - loss: 0.5242\n",
            "Epoch 5/100\n",
            "69/69 [==============================] - 0s 1ms/step - loss: 0.5209\n",
            "Epoch 6/100\n",
            "69/69 [==============================] - 0s 1ms/step - loss: 0.4791\n",
            "Epoch 7/100\n",
            "69/69 [==============================] - 0s 1ms/step - loss: 0.4228\n",
            "Epoch 8/100\n",
            "69/69 [==============================] - 0s 1ms/step - loss: 0.4343\n",
            "Epoch 9/100\n",
            "69/69 [==============================] - 0s 1ms/step - loss: 0.4180\n",
            "Epoch 10/100\n",
            "69/69 [==============================] - 0s 1ms/step - loss: 0.3938\n",
            "Epoch 11/100\n",
            "69/69 [==============================] - 0s 1ms/step - loss: 0.3850\n",
            "Epoch 12/100\n",
            "69/69 [==============================] - 0s 1ms/step - loss: 0.3397\n",
            "Epoch 13/100\n",
            "69/69 [==============================] - 0s 1ms/step - loss: 0.3747\n",
            "Epoch 14/100\n",
            "69/69 [==============================] - 0s 1ms/step - loss: 0.3757\n",
            "Epoch 15/100\n",
            "69/69 [==============================] - 0s 1ms/step - loss: 0.3369\n",
            "Epoch 16/100\n",
            "69/69 [==============================] - 0s 1ms/step - loss: 0.3366\n",
            "Epoch 17/100\n",
            "69/69 [==============================] - 0s 1ms/step - loss: 0.3432\n",
            "Epoch 18/100\n",
            "69/69 [==============================] - 0s 1ms/step - loss: 0.3377\n",
            "Epoch 19/100\n",
            "69/69 [==============================] - 0s 1ms/step - loss: 0.3704\n",
            "Epoch 20/100\n",
            "69/69 [==============================] - 0s 2ms/step - loss: 0.3077\n",
            "Epoch 21/100\n",
            "69/69 [==============================] - 0s 1ms/step - loss: 0.3032\n",
            "Epoch 22/100\n",
            "69/69 [==============================] - 0s 1ms/step - loss: 0.2747\n",
            "Epoch 23/100\n",
            "69/69 [==============================] - 0s 1ms/step - loss: 0.2900\n",
            "Epoch 24/100\n",
            "69/69 [==============================] - 0s 1ms/step - loss: 0.3094\n",
            "Epoch 25/100\n",
            "69/69 [==============================] - 0s 1ms/step - loss: 0.3148\n",
            "Epoch 26/100\n",
            "69/69 [==============================] - 0s 1ms/step - loss: 0.3482\n",
            "Epoch 27/100\n",
            "69/69 [==============================] - 0s 1ms/step - loss: 0.3225\n",
            "Epoch 28/100\n",
            "69/69 [==============================] - 0s 1ms/step - loss: 0.2627\n",
            "Epoch 29/100\n",
            "69/69 [==============================] - 0s 1ms/step - loss: 0.3023\n",
            "Epoch 30/100\n",
            "69/69 [==============================] - 0s 1ms/step - loss: 0.2859\n",
            "Epoch 31/100\n",
            "69/69 [==============================] - 0s 1ms/step - loss: 0.3068\n",
            "Epoch 32/100\n",
            "69/69 [==============================] - 0s 1ms/step - loss: 0.3506\n",
            "Epoch 33/100\n",
            "69/69 [==============================] - 0s 1ms/step - loss: 0.2583\n",
            "Epoch 34/100\n",
            "69/69 [==============================] - 0s 1ms/step - loss: 0.3049\n",
            "Epoch 35/100\n",
            "69/69 [==============================] - 0s 1ms/step - loss: 0.2675\n",
            "Epoch 36/100\n",
            "69/69 [==============================] - 0s 1ms/step - loss: 0.2958\n",
            "Epoch 37/100\n",
            "69/69 [==============================] - 0s 1ms/step - loss: 0.2930\n",
            "Epoch 38/100\n",
            "69/69 [==============================] - 0s 1ms/step - loss: 0.3074\n",
            "Epoch 39/100\n",
            "69/69 [==============================] - 0s 1ms/step - loss: 0.3129\n",
            "Epoch 40/100\n",
            "69/69 [==============================] - 0s 1ms/step - loss: 0.2682\n",
            "Epoch 41/100\n",
            "69/69 [==============================] - 0s 1ms/step - loss: 0.3055\n",
            "Epoch 42/100\n",
            "69/69 [==============================] - 0s 1ms/step - loss: 0.2636\n",
            "Epoch 43/100\n",
            "69/69 [==============================] - 0s 1ms/step - loss: 0.2953\n",
            "Epoch 44/100\n",
            "69/69 [==============================] - 0s 1ms/step - loss: 0.2536\n",
            "Epoch 45/100\n",
            "69/69 [==============================] - 0s 1ms/step - loss: 0.3105\n",
            "Epoch 46/100\n",
            "69/69 [==============================] - 0s 1ms/step - loss: 0.2689\n",
            "Epoch 47/100\n",
            "69/69 [==============================] - 0s 1ms/step - loss: 0.3036\n",
            "Epoch 48/100\n",
            "69/69 [==============================] - 0s 1ms/step - loss: 0.2609\n",
            "Epoch 49/100\n",
            "69/69 [==============================] - 0s 1ms/step - loss: 0.2743\n",
            "Epoch 50/100\n",
            "69/69 [==============================] - 0s 1ms/step - loss: 0.3086\n",
            "Epoch 51/100\n",
            "69/69 [==============================] - 0s 1ms/step - loss: 0.3057\n",
            "Epoch 52/100\n",
            "69/69 [==============================] - 0s 1ms/step - loss: 0.2465\n",
            "Epoch 53/100\n",
            "69/69 [==============================] - 0s 1ms/step - loss: 0.3070\n",
            "Epoch 54/100\n",
            "69/69 [==============================] - 0s 1ms/step - loss: 0.2622\n",
            "Epoch 55/100\n",
            "69/69 [==============================] - 0s 1ms/step - loss: 0.2477\n",
            "Epoch 56/100\n",
            "69/69 [==============================] - 0s 1ms/step - loss: 0.2496\n",
            "Epoch 57/100\n",
            "69/69 [==============================] - 0s 1ms/step - loss: 0.2547\n",
            "Epoch 58/100\n",
            "69/69 [==============================] - 0s 1ms/step - loss: 0.2448\n",
            "Epoch 59/100\n",
            "69/69 [==============================] - 0s 1ms/step - loss: 0.2201\n",
            "Epoch 60/100\n",
            "69/69 [==============================] - 0s 1ms/step - loss: 0.2891\n",
            "Epoch 61/100\n",
            "69/69 [==============================] - 0s 1ms/step - loss: 0.2587\n",
            "Epoch 62/100\n",
            "69/69 [==============================] - 0s 1ms/step - loss: 0.2550\n",
            "Epoch 63/100\n",
            "69/69 [==============================] - 0s 1ms/step - loss: 0.2597\n",
            "Epoch 64/100\n",
            "69/69 [==============================] - 0s 1ms/step - loss: 0.2744\n",
            "Epoch 65/100\n",
            "69/69 [==============================] - 0s 1ms/step - loss: 0.2874\n",
            "Epoch 66/100\n",
            "69/69 [==============================] - 0s 1ms/step - loss: 0.2727\n",
            "Epoch 67/100\n",
            "69/69 [==============================] - 0s 1ms/step - loss: 0.2595\n",
            "Epoch 68/100\n",
            "69/69 [==============================] - 0s 1ms/step - loss: 0.2234\n",
            "Epoch 69/100\n",
            "69/69 [==============================] - 0s 1ms/step - loss: 0.2513\n",
            "Epoch 70/100\n",
            "69/69 [==============================] - 0s 1ms/step - loss: 0.2461\n",
            "Epoch 71/100\n",
            "69/69 [==============================] - 0s 1ms/step - loss: 0.2643\n",
            "Epoch 72/100\n",
            "69/69 [==============================] - 0s 1ms/step - loss: 0.2340\n",
            "Epoch 73/100\n",
            "69/69 [==============================] - 0s 1ms/step - loss: 0.2279\n",
            "Epoch 74/100\n",
            "69/69 [==============================] - 0s 1ms/step - loss: 0.2300\n",
            "Epoch 75/100\n",
            "69/69 [==============================] - 0s 1ms/step - loss: 0.2706\n",
            "Epoch 76/100\n",
            "69/69 [==============================] - 0s 1ms/step - loss: 0.2533\n",
            "Epoch 77/100\n",
            "69/69 [==============================] - 0s 1ms/step - loss: 0.2324\n",
            "Epoch 78/100\n",
            "69/69 [==============================] - 0s 1ms/step - loss: 0.2449\n",
            "Epoch 79/100\n",
            "69/69 [==============================] - 0s 1ms/step - loss: 0.2671\n",
            "Epoch 80/100\n",
            "69/69 [==============================] - 0s 1ms/step - loss: 0.2502\n",
            "Epoch 81/100\n",
            "69/69 [==============================] - 0s 1ms/step - loss: 0.2611\n",
            "Epoch 82/100\n",
            "69/69 [==============================] - 0s 1ms/step - loss: 0.2402\n",
            "Epoch 83/100\n",
            "69/69 [==============================] - 0s 1ms/step - loss: 0.2635\n",
            "Epoch 84/100\n",
            "69/69 [==============================] - 0s 1ms/step - loss: 0.2539\n",
            "Epoch 85/100\n",
            "69/69 [==============================] - 0s 1ms/step - loss: 0.2177\n",
            "Epoch 86/100\n",
            "69/69 [==============================] - 0s 1ms/step - loss: 0.2167\n",
            "Epoch 87/100\n",
            "69/69 [==============================] - 0s 1ms/step - loss: 0.2254\n",
            "Epoch 88/100\n",
            "69/69 [==============================] - 0s 1ms/step - loss: 0.2184\n",
            "Epoch 89/100\n",
            "69/69 [==============================] - 0s 1ms/step - loss: 0.2241\n",
            "Epoch 90/100\n",
            "69/69 [==============================] - 0s 1ms/step - loss: 0.2438\n",
            "Epoch 91/100\n",
            "69/69 [==============================] - 0s 1ms/step - loss: 0.2162\n",
            "Epoch 92/100\n",
            "69/69 [==============================] - 0s 1ms/step - loss: 0.2026\n",
            "Epoch 93/100\n",
            "69/69 [==============================] - 0s 1ms/step - loss: 0.2129\n",
            "Epoch 94/100\n",
            "69/69 [==============================] - 0s 1ms/step - loss: 0.2762\n",
            "Epoch 95/100\n",
            "69/69 [==============================] - 0s 1ms/step - loss: 0.2463\n",
            "Epoch 96/100\n",
            "69/69 [==============================] - 0s 1ms/step - loss: 0.2285\n",
            "Epoch 97/100\n",
            "69/69 [==============================] - 0s 1ms/step - loss: 0.2412\n",
            "Epoch 98/100\n",
            "69/69 [==============================] - 0s 1ms/step - loss: 0.2211\n",
            "Epoch 99/100\n",
            "69/69 [==============================] - 0s 1ms/step - loss: 0.2171\n",
            "Epoch 100/100\n",
            "69/69 [==============================] - 0s 1ms/step - loss: 0.2472\n"
          ],
          "name": "stdout"
        },
        {
          "output_type": "execute_result",
          "data": {
            "text/plain": [
              "<keras.callbacks.History at 0x7f4666fbca90>"
            ]
          },
          "metadata": {
            "tags": []
          },
          "execution_count": 170
        }
      ]
    },
    {
      "cell_type": "markdown",
      "metadata": {
        "id": "6AfurfPpLGAQ"
      },
      "source": [
        "***predicting value for test dataset with thresold of 0.5***"
      ]
    },
    {
      "cell_type": "code",
      "metadata": {
        "id": "eH_2p69g1yiO"
      },
      "source": [
        "y_pred=classifier.predict(X_test)\n",
        "y_pred=(y_pred>0.5)"
      ],
      "execution_count": 171,
      "outputs": []
    },
    {
      "cell_type": "markdown",
      "metadata": {
        "id": "AbPQ9tS0LTAL"
      },
      "source": [
        "***using confusion matrix for performence***"
      ]
    },
    {
      "cell_type": "code",
      "metadata": {
        "id": "sWhras3u2GmK",
        "outputId": "5ae25f42-aead-4db4-a219-29c59b8444b8",
        "colab": {
          "base_uri": "https://localhost:8080/"
        }
      },
      "source": [
        "from sklearn.metrics import confusion_matrix\n",
        "cum=confusion_matrix(Y_test,y_pred)\n",
        "cum"
      ],
      "execution_count": 172,
      "outputs": [
        {
          "output_type": "execute_result",
          "data": {
            "text/plain": [
              "array([[79,  3],\n",
              "       [ 6, 48]])"
            ]
          },
          "metadata": {
            "tags": []
          },
          "execution_count": 172
        }
      ]
    },
    {
      "cell_type": "code",
      "metadata": {
        "id": "_4ahMwqo37DN",
        "outputId": "2db7d737-8d65-4fe5-ba48-8a931286ae03",
        "colab": {
          "base_uri": "https://localhost:8080/"
        }
      },
      "source": [
        "Y_test.shape"
      ],
      "execution_count": 173,
      "outputs": [
        {
          "output_type": "execute_result",
          "data": {
            "text/plain": [
              "(136, 1)"
            ]
          },
          "metadata": {
            "tags": []
          },
          "execution_count": 173
        }
      ]
    },
    {
      "cell_type": "markdown",
      "metadata": {
        "id": "s7drRGRyLhmU"
      },
      "source": [
        "***by applyting formula can see accuracy***"
      ]
    },
    {
      "cell_type": "code",
      "metadata": {
        "id": "eM_TGcAH4HLu",
        "outputId": "4cef0e4c-dd1a-4861-8446-31228f6c4ca7",
        "colab": {
          "base_uri": "https://localhost:8080/"
        }
      },
      "source": [
        "accuracy=((79+48)/136)\n",
        "accuracy"
      ],
      "execution_count": 174,
      "outputs": [
        {
          "output_type": "execute_result",
          "data": {
            "text/plain": [
              "0.9338235294117647"
            ]
          },
          "metadata": {
            "tags": []
          },
          "execution_count": 174
        }
      ]
    }
  ]
}